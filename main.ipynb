{
 "cells": [
  {
   "cell_type": "markdown",
   "id": "04cd0ccb",
   "metadata": {},
   "source": [
    "# Weather Forecast Pipeline"
   ]
  },
  {
   "cell_type": "markdown",
   "id": "4d15a12c",
   "metadata": {},
   "source": [
    "## Import Library"
   ]
  },
  {
   "cell_type": "code",
   "execution_count": 1,
   "id": "ef1bb194",
   "metadata": {},
   "outputs": [],
   "source": [
    "import os\n",
    "from typing import Text\n",
    "from modules.components import init_components \n",
    "from absl import logging\n",
    "from tfx.orchestration import metadata, pipeline\n",
    "from tfx.orchestration.beam.beam_dag_runner import BeamDagRunner"
   ]
  },
  {
   "cell_type": "markdown",
   "id": "4cbe550d",
   "metadata": {},
   "source": [
    "## Set Variable"
   ]
  },
  {
   "cell_type": "code",
   "execution_count": 2,
   "id": "a962af3b",
   "metadata": {},
   "outputs": [],
   "source": [
    "# Pipeline name\n",
    "PIPELINE_NAME = \"j3ndra21-pipeline\"\n",
    "\n",
    "# Input Data Path\n",
    "DATA_ROOT = \"data\"\n",
    "TRANSFORM_MODULE_FILE = \"modules/transform_module.py\"\n",
    "TUNER_TRAINER_MODULE_FILE = \"modules/tuner_trainer.py\"\n",
    "\n",
    "# Output Data Path\n",
    "OUTPUT_BASE = \"outputs\"\n",
    "serving_model_dir = os.path.join(OUTPUT_BASE, 'serving_model')\n",
    "pipeline_root = os.path.join(OUTPUT_BASE, PIPELINE_NAME)\n",
    "metadata_path = os.path.join(pipeline_root, \"metadata.sqlite\")"
   ]
  },
  {
   "cell_type": "markdown",
   "id": "b921aba3",
   "metadata": {},
   "source": [
    "## Run the Pipeline"
   ]
  },
  {
   "cell_type": "code",
   "execution_count": 3,
   "id": "8986fbaa",
   "metadata": {},
   "outputs": [
    {
     "name": "stdout",
     "output_type": "stream",
     "text": [
      "Trial 2 Complete [00h 00m 23s]\n",
      "val_binary_accuracy: 0.9758124947547913\n",
      "\n",
      "Best val_binary_accuracy So Far: 0.991937518119812\n",
      "Total elapsed time: 00h 01m 00s\n",
      "INFO:tensorflow:Oracle triggered exit\n"
     ]
    },
    {
     "name": "stderr",
     "output_type": "stream",
     "text": [
      "INFO:tensorflow:Oracle triggered exit\n",
      "WARNING:absl:ArtifactQuery.property_predicate is not supported.\n"
     ]
    },
    {
     "name": "stdout",
     "output_type": "stream",
     "text": [
      "Results summary\n",
      "Results in outputs\\j3ndra21-pipeline\\Tuner\\.system\\executor_execution\\14\\.temp\\14\\breast_cancer_prediction\n",
      "Showing 10 best trials\n",
      "Objective(name=\"val_binary_accuracy\", direction=\"max\")\n",
      "\n",
      "Trial 0 summary\n",
      "Hyperparameters:\n",
      "dense_1: 64\n",
      "dense_2: 160\n",
      "dense_3: 32\n",
      "dropout_1: 0.5\n",
      "dropout_2: 0.1\n",
      "learning_rate: 0.0001\n",
      "activation: relu\n",
      "Score: 0.991937518119812\n",
      "\n",
      "Trial 1 summary\n",
      "Hyperparameters:\n",
      "dense_1: 128\n",
      "dense_2: 192\n",
      "dense_3: 112\n",
      "dropout_1: 0.2\n",
      "dropout_2: 0.1\n",
      "learning_rate: 0.001\n",
      "activation: tanh\n",
      "Score: 0.9758124947547913\n"
     ]
    },
    {
     "name": "stderr",
     "output_type": "stream",
     "text": [
      "WARNING:absl:ArtifactQuery.property_predicate is not supported.\n",
      "WARNING:absl:ArtifactQuery.property_predicate is not supported.\n",
      "WARNING:absl:ArtifactQuery.property_predicate is not supported.\n",
      "WARNING:absl:Examples artifact does not have payload_format custom property. Falling back to FORMAT_TF_EXAMPLE\n",
      "WARNING:absl:Examples artifact does not have payload_format custom property. Falling back to FORMAT_TF_EXAMPLE\n",
      "WARNING:absl:Examples artifact does not have payload_format custom property. Falling back to FORMAT_TF_EXAMPLE\n"
     ]
    },
    {
     "name": "stdout",
     "output_type": "stream",
     "text": [
      "Model: \"model_1\"\n",
      "__________________________________________________________________________________________________\n",
      " Layer (type)                   Output Shape         Param #     Connected to                     \n",
      "==================================================================================================\n",
      " concave points_worst_xf (Input  [(None, 1)]         0           []                               \n",
      " Layer)                                                                                           \n",
      "                                                                                                  \n",
      " texture_worst_xf (InputLayer)  [(None, 1)]          0           []                               \n",
      "                                                                                                  \n",
      " symmetry_mean_xf (InputLayer)  [(None, 1)]          0           []                               \n",
      "                                                                                                  \n",
      " smoothness_mean_xf (InputLayer  [(None, 1)]         0           []                               \n",
      " )                                                                                                \n",
      "                                                                                                  \n",
      " texture_mean_xf (InputLayer)   [(None, 1)]          0           []                               \n",
      "                                                                                                  \n",
      " area_mean_xf (InputLayer)      [(None, 1)]          0           []                               \n",
      "                                                                                                  \n",
      " perimeter_worst_xf (InputLayer  [(None, 1)]         0           []                               \n",
      " )                                                                                                \n",
      "                                                                                                  \n",
      " radius_mean_xf (InputLayer)    [(None, 1)]          0           []                               \n",
      "                                                                                                  \n",
      " concavity_mean_xf (InputLayer)  [(None, 1)]         0           []                               \n",
      "                                                                                                  \n",
      " symmetry_se_xf (InputLayer)    [(None, 1)]          0           []                               \n",
      "                                                                                                  \n",
      " concavity_worst_xf (InputLayer  [(None, 1)]         0           []                               \n",
      " )                                                                                                \n",
      "                                                                                                  \n",
      " fractal_dimension_se_xf (Input  [(None, 1)]         0           []                               \n",
      " Layer)                                                                                           \n",
      "                                                                                                  \n",
      " texture_se_xf (InputLayer)     [(None, 1)]          0           []                               \n",
      "                                                                                                  \n",
      " fractal_dimension_worst_xf (In  [(None, 1)]         0           []                               \n",
      " putLayer)                                                                                        \n",
      "                                                                                                  \n",
      " radius_se_xf (InputLayer)      [(None, 1)]          0           []                               \n",
      "                                                                                                  \n",
      " symmetry_worst_xf (InputLayer)  [(None, 1)]         0           []                               \n",
      "                                                                                                  \n",
      " area_se_xf (InputLayer)        [(None, 1)]          0           []                               \n",
      "                                                                                                  \n",
      " concave points_mean_xf (InputL  [(None, 1)]         0           []                               \n",
      " ayer)                                                                                            \n",
      "                                                                                                  \n",
      " fractal_dimension_mean_xf (Inp  [(None, 1)]         0           []                               \n",
      " utLayer)                                                                                         \n",
      "                                                                                                  \n",
      " concave points_se_xf (InputLay  [(None, 1)]         0           []                               \n",
      " er)                                                                                              \n",
      "                                                                                                  \n",
      " smoothness_se_xf (InputLayer)  [(None, 1)]          0           []                               \n",
      "                                                                                                  \n",
      " compactness_worst_xf (InputLay  [(None, 1)]         0           []                               \n",
      " er)                                                                                              \n",
      "                                                                                                  \n",
      " radius_worst_xf (InputLayer)   [(None, 1)]          0           []                               \n",
      "                                                                                                  \n",
      " perimeter_mean_xf (InputLayer)  [(None, 1)]         0           []                               \n",
      "                                                                                                  \n",
      " area_worst_xf (InputLayer)     [(None, 1)]          0           []                               \n",
      "                                                                                                  \n",
      " compactness_mean_xf (InputLaye  [(None, 1)]         0           []                               \n",
      " r)                                                                                               \n",
      "                                                                                                  \n",
      " perimeter_se_xf (InputLayer)   [(None, 1)]          0           []                               \n",
      "                                                                                                  \n",
      " smoothness_worst_xf (InputLaye  [(None, 1)]         0           []                               \n",
      " r)                                                                                               \n",
      "                                                                                                  \n",
      " compactness_se_xf (InputLayer)  [(None, 1)]         0           []                               \n",
      "                                                                                                  \n",
      " concavity_se_xf (InputLayer)   [(None, 1)]          0           []                               \n",
      "                                                                                                  \n",
      " concatenate_1 (Concatenate)    (None, 30)           0           ['concave points_worst_xf[0][0]',\n",
      "                                                                  'texture_worst_xf[0][0]',       \n",
      "                                                                  'symmetry_mean_xf[0][0]',       \n",
      "                                                                  'smoothness_mean_xf[0][0]',     \n",
      "                                                                  'texture_mean_xf[0][0]',        \n",
      "                                                                  'area_mean_xf[0][0]',           \n",
      "                                                                  'perimeter_worst_xf[0][0]',     \n",
      "                                                                  'radius_mean_xf[0][0]',         \n",
      "                                                                  'concavity_mean_xf[0][0]',      \n",
      "                                                                  'symmetry_se_xf[0][0]',         \n",
      "                                                                  'concavity_worst_xf[0][0]',     \n",
      "                                                                  'fractal_dimension_se_xf[0][0]',\n",
      "                                                                  'texture_se_xf[0][0]',          \n",
      "                                                                  'fractal_dimension_worst_xf[0][0\n",
      "                                                                 ]',                              \n",
      "                                                                  'radius_se_xf[0][0]',           \n",
      "                                                                  'symmetry_worst_xf[0][0]',      \n",
      "                                                                  'area_se_xf[0][0]',             \n",
      "                                                                  'concave points_mean_xf[0][0]', \n",
      "                                                                  'fractal_dimension_mean_xf[0][0]\n",
      "                                                                 ',                               \n",
      "                                                                  'concave points_se_xf[0][0]',   \n",
      "                                                                  'smoothness_se_xf[0][0]',       \n",
      "                                                                  'compactness_worst_xf[0][0]',   \n",
      "                                                                  'radius_worst_xf[0][0]',        \n",
      "                                                                  'perimeter_mean_xf[0][0]',      \n",
      "                                                                  'area_worst_xf[0][0]',          \n",
      "                                                                  'compactness_mean_xf[0][0]',    \n",
      "                                                                  'perimeter_se_xf[0][0]',        \n",
      "                                                                  'smoothness_worst_xf[0][0]',    \n",
      "                                                                  'compactness_se_xf[0][0]',      \n",
      "                                                                  'concavity_se_xf[0][0]']        \n",
      "                                                                                                  \n",
      " dense_4 (Dense)                (None, 64)           1984        ['concatenate_1[0][0]']          \n",
      "                                                                                                  \n",
      " dropout_2 (Dropout)            (None, 64)           0           ['dense_4[0][0]']                \n",
      "                                                                                                  \n",
      " dense_5 (Dense)                (None, 160)          10400       ['dropout_2[0][0]']              \n",
      "                                                                                                  \n",
      " dropout_3 (Dropout)            (None, 160)          0           ['dense_5[0][0]']                \n",
      "                                                                                                  \n",
      " dense_6 (Dense)                (None, 32)           5152        ['dropout_3[0][0]']              \n",
      "                                                                                                  \n",
      " dense_7 (Dense)                (None, 1)            33          ['dense_6[0][0]']                \n",
      "                                                                                                  \n",
      "==================================================================================================\n",
      "Total params: 17,569\n",
      "Trainable params: 17,569\n",
      "Non-trainable params: 0\n",
      "__________________________________________________________________________________________________\n",
      "Epoch 1/20\n",
      "1000/1000 [==============================] - 5s 4ms/step - loss: 0.1675 - binary_accuracy: 0.9432 - precision_1: 0.9163 - recall_1: 0.9329 - val_loss: 0.0712 - val_binary_accuracy: 0.9758 - val_precision_1: 0.9778 - val_recall_1: 0.9565 - lr: 1.0000e-04\n",
      "Epoch 2/20\n",
      "1000/1000 [==============================] - 4s 4ms/step - loss: 0.0631 - binary_accuracy: 0.9798 - precision_1: 0.9780 - recall_1: 0.9676 - val_loss: 0.0617 - val_binary_accuracy: 0.9839 - val_precision_1: 1.0000 - val_recall_1: 0.9565 - lr: 1.0000e-04\n",
      "Epoch 3/20\n",
      "1000/1000 [==============================] - 4s 4ms/step - loss: 0.0439 - binary_accuracy: 0.9858 - precision_1: 0.9863 - recall_1: 0.9755 - val_loss: 0.0571 - val_binary_accuracy: 0.9839 - val_precision_1: 1.0000 - val_recall_1: 0.9565 - lr: 1.0000e-04\n",
      "Epoch 4/20\n",
      "1000/1000 [==============================] - 4s 4ms/step - loss: 0.0315 - binary_accuracy: 0.9894 - precision_1: 0.9913 - recall_1: 0.9803 - val_loss: 0.0585 - val_binary_accuracy: 0.9839 - val_precision_1: 1.0000 - val_recall_1: 0.9565 - lr: 1.0000e-04\n",
      "Epoch 5/20\n",
      "1000/1000 [==============================] - 4s 4ms/step - loss: 0.0219 - binary_accuracy: 0.9921 - precision_1: 0.9935 - recall_1: 0.9854 - val_loss: 0.0613 - val_binary_accuracy: 0.9758 - val_precision_1: 0.9778 - val_recall_1: 0.9565 - lr: 1.0000e-04\n",
      "Epoch 6/20\n",
      "1000/1000 [==============================] - 4s 4ms/step - loss: 0.0160 - binary_accuracy: 0.9944 - precision_1: 0.9947 - recall_1: 0.9903 - val_loss: 0.0694 - val_binary_accuracy: 0.9839 - val_precision_1: 1.0000 - val_recall_1: 0.9565 - lr: 1.0000e-04\n",
      "Epoch 7/20\n",
      "1000/1000 [==============================] - 4s 4ms/step - loss: 0.0124 - binary_accuracy: 0.9960 - precision_1: 0.9966 - recall_1: 0.9928 - val_loss: 0.0697 - val_binary_accuracy: 0.9839 - val_precision_1: 1.0000 - val_recall_1: 0.9565 - lr: 2.0000e-05\n",
      "Epoch 7: early stopping\n",
      "INFO:tensorflow:struct2tensor is not available.\n"
     ]
    },
    {
     "name": "stderr",
     "output_type": "stream",
     "text": [
      "INFO:tensorflow:struct2tensor is not available.\n"
     ]
    },
    {
     "name": "stdout",
     "output_type": "stream",
     "text": [
      "INFO:tensorflow:tensorflow_decision_forests is not available.\n"
     ]
    },
    {
     "name": "stderr",
     "output_type": "stream",
     "text": [
      "INFO:tensorflow:tensorflow_decision_forests is not available.\n"
     ]
    },
    {
     "name": "stdout",
     "output_type": "stream",
     "text": [
      "INFO:tensorflow:tensorflow_text is not available.\n"
     ]
    },
    {
     "name": "stderr",
     "output_type": "stream",
     "text": [
      "INFO:tensorflow:tensorflow_text is not available.\n"
     ]
    },
    {
     "name": "stdout",
     "output_type": "stream",
     "text": [
      "INFO:tensorflow:Assets written to: outputs\\j3ndra21-pipeline\\Trainer\\model\\15\\Format-Serving\\assets\n"
     ]
    },
    {
     "name": "stderr",
     "output_type": "stream",
     "text": [
      "INFO:tensorflow:Assets written to: outputs\\j3ndra21-pipeline\\Trainer\\model\\15\\Format-Serving\\assets\n"
     ]
    },
    {
     "name": "stdout",
     "output_type": "stream",
     "text": [
      "You must install pydot (`pip install pydot`) and install graphviz (see instructions at https://graphviz.gitlab.io/download/) for plot_model to work.\n"
     ]
    },
    {
     "name": "stderr",
     "output_type": "stream",
     "text": [
      "WARNING:absl:ArtifactQuery.property_predicate is not supported.\n",
      "WARNING:absl:ArtifactQuery.property_predicate is not supported.\n"
     ]
    },
    {
     "name": "stdout",
     "output_type": "stream",
     "text": [
      "WARNING:tensorflow:Inconsistent references when loading the checkpoint into this object graph. For example, in the saved checkpoint object, `model.layer.weight` and `model.layer_copy.weight` reference the same variable, while in the current object these are two different variables. The referenced variables are:(<keras.saving.saved_model.load.TensorFlowTransform>TransformFeaturesLayer object at 0x000002A57EC00040> and <keras.engine.input_layer.InputLayer object at 0x000002A57D36A400>).\n"
     ]
    },
    {
     "name": "stderr",
     "output_type": "stream",
     "text": [
      "WARNING:tensorflow:Inconsistent references when loading the checkpoint into this object graph. For example, in the saved checkpoint object, `model.layer.weight` and `model.layer_copy.weight` reference the same variable, while in the current object these are two different variables. The referenced variables are:(<keras.saving.saved_model.load.TensorFlowTransform>TransformFeaturesLayer object at 0x000002A57EC00040> and <keras.engine.input_layer.InputLayer object at 0x000002A57D36A400>).\n",
      "WARNING:absl:Examples artifact does not have payload_format custom property. Falling back to FORMAT_TF_EXAMPLE\n"
     ]
    },
    {
     "name": "stdout",
     "output_type": "stream",
     "text": [
      "WARNING:tensorflow:Inconsistent references when loading the checkpoint into this object graph. For example, in the saved checkpoint object, `model.layer.weight` and `model.layer_copy.weight` reference the same variable, while in the current object these are two different variables. The referenced variables are:(<keras.saving.saved_model.load.TensorFlowTransform>TransformFeaturesLayer object at 0x000002A50D0B6D90> and <keras.engine.input_layer.InputLayer object at 0x000002A5034E0EE0>).\n"
     ]
    },
    {
     "name": "stderr",
     "output_type": "stream",
     "text": [
      "WARNING:tensorflow:Inconsistent references when loading the checkpoint into this object graph. For example, in the saved checkpoint object, `model.layer.weight` and `model.layer_copy.weight` reference the same variable, while in the current object these are two different variables. The referenced variables are:(<keras.saving.saved_model.load.TensorFlowTransform>TransformFeaturesLayer object at 0x000002A50D0B6D90> and <keras.engine.input_layer.InputLayer object at 0x000002A5034E0EE0>).\n"
     ]
    },
    {
     "name": "stdout",
     "output_type": "stream",
     "text": [
      "WARNING:tensorflow:Inconsistent references when loading the checkpoint into this object graph. For example, in the saved checkpoint object, `model.layer.weight` and `model.layer_copy.weight` reference the same variable, while in the current object these are two different variables. The referenced variables are:(<keras.saving.saved_model.load.TensorFlowTransform>TransformFeaturesLayer object at 0x000002A50D1C4220> and <keras.engine.input_layer.InputLayer object at 0x000002A50D1C4A60>).\n"
     ]
    },
    {
     "name": "stderr",
     "output_type": "stream",
     "text": [
      "WARNING:tensorflow:Inconsistent references when loading the checkpoint into this object graph. For example, in the saved checkpoint object, `model.layer.weight` and `model.layer_copy.weight` reference the same variable, while in the current object these are two different variables. The referenced variables are:(<keras.saving.saved_model.load.TensorFlowTransform>TransformFeaturesLayer object at 0x000002A50D1C4220> and <keras.engine.input_layer.InputLayer object at 0x000002A50D1C4A60>).\n"
     ]
    },
    {
     "name": "stdout",
     "output_type": "stream",
     "text": [
      "WARNING:tensorflow:Inconsistent references when loading the checkpoint into this object graph. For example, in the saved checkpoint object, `model.layer.weight` and `model.layer_copy.weight` reference the same variable, while in the current object these are two different variables. The referenced variables are:(<keras.saving.saved_model.load.TensorFlowTransform>TransformFeaturesLayer object at 0x000002A57E814280> and <keras.engine.input_layer.InputLayer object at 0x000002A50D7289D0>).\n"
     ]
    },
    {
     "name": "stderr",
     "output_type": "stream",
     "text": [
      "WARNING:tensorflow:Inconsistent references when loading the checkpoint into this object graph. For example, in the saved checkpoint object, `model.layer.weight` and `model.layer_copy.weight` reference the same variable, while in the current object these are two different variables. The referenced variables are:(<keras.saving.saved_model.load.TensorFlowTransform>TransformFeaturesLayer object at 0x000002A57E814280> and <keras.engine.input_layer.InputLayer object at 0x000002A50D7289D0>).\n"
     ]
    },
    {
     "name": "stdout",
     "output_type": "stream",
     "text": [
      "WARNING:tensorflow:Inconsistent references when loading the checkpoint into this object graph. For example, in the saved checkpoint object, `model.layer.weight` and `model.layer_copy.weight` reference the same variable, while in the current object these are two different variables. The referenced variables are:(<keras.saving.saved_model.load.TensorFlowTransform>TransformFeaturesLayer object at 0x000002A50E918EE0> and <keras.engine.input_layer.InputLayer object at 0x000002A50E90ABE0>).\n"
     ]
    },
    {
     "name": "stderr",
     "output_type": "stream",
     "text": [
      "WARNING:tensorflow:Inconsistent references when loading the checkpoint into this object graph. For example, in the saved checkpoint object, `model.layer.weight` and `model.layer_copy.weight` reference the same variable, while in the current object these are two different variables. The referenced variables are:(<keras.saving.saved_model.load.TensorFlowTransform>TransformFeaturesLayer object at 0x000002A50E918EE0> and <keras.engine.input_layer.InputLayer object at 0x000002A50E90ABE0>).\n"
     ]
    },
    {
     "name": "stdout",
     "output_type": "stream",
     "text": [
      "WARNING:tensorflow:Inconsistent references when loading the checkpoint into this object graph. For example, in the saved checkpoint object, `model.layer.weight` and `model.layer_copy.weight` reference the same variable, while in the current object these are two different variables. The referenced variables are:(<keras.saving.saved_model.load.TensorFlowTransform>TransformFeaturesLayer object at 0x000002A57EE9EFA0> and <keras.engine.input_layer.InputLayer object at 0x000002A503CF0CD0>).\n"
     ]
    },
    {
     "name": "stderr",
     "output_type": "stream",
     "text": [
      "WARNING:tensorflow:Inconsistent references when loading the checkpoint into this object graph. For example, in the saved checkpoint object, `model.layer.weight` and `model.layer_copy.weight` reference the same variable, while in the current object these are two different variables. The referenced variables are:(<keras.saving.saved_model.load.TensorFlowTransform>TransformFeaturesLayer object at 0x000002A57EE9EFA0> and <keras.engine.input_layer.InputLayer object at 0x000002A503CF0CD0>).\n"
     ]
    },
    {
     "name": "stdout",
     "output_type": "stream",
     "text": [
      "WARNING:tensorflow:Inconsistent references when loading the checkpoint into this object graph. For example, in the saved checkpoint object, `model.layer.weight` and `model.layer_copy.weight` reference the same variable, while in the current object these are two different variables. The referenced variables are:(<keras.saving.saved_model.load.TensorFlowTransform>TransformFeaturesLayer object at 0x000002A503B25A90> and <keras.engine.input_layer.InputLayer object at 0x000002A503B3B730>).\n"
     ]
    },
    {
     "name": "stderr",
     "output_type": "stream",
     "text": [
      "WARNING:tensorflow:Inconsistent references when loading the checkpoint into this object graph. For example, in the saved checkpoint object, `model.layer.weight` and `model.layer_copy.weight` reference the same variable, while in the current object these are two different variables. The referenced variables are:(<keras.saving.saved_model.load.TensorFlowTransform>TransformFeaturesLayer object at 0x000002A503B25A90> and <keras.engine.input_layer.InputLayer object at 0x000002A503B3B730>).\n"
     ]
    },
    {
     "name": "stdout",
     "output_type": "stream",
     "text": [
      "WARNING:tensorflow:Inconsistent references when loading the checkpoint into this object graph. For example, in the saved checkpoint object, `model.layer.weight` and `model.layer_copy.weight` reference the same variable, while in the current object these are two different variables. The referenced variables are:(<keras.saving.saved_model.load.TensorFlowTransform>TransformFeaturesLayer object at 0x000002A517FBF490> and <keras.engine.input_layer.InputLayer object at 0x000002A517FA3CA0>).\n"
     ]
    },
    {
     "name": "stderr",
     "output_type": "stream",
     "text": [
      "WARNING:tensorflow:Inconsistent references when loading the checkpoint into this object graph. For example, in the saved checkpoint object, `model.layer.weight` and `model.layer_copy.weight` reference the same variable, while in the current object these are two different variables. The referenced variables are:(<keras.saving.saved_model.load.TensorFlowTransform>TransformFeaturesLayer object at 0x000002A517FBF490> and <keras.engine.input_layer.InputLayer object at 0x000002A517FA3CA0>).\n"
     ]
    },
    {
     "name": "stdout",
     "output_type": "stream",
     "text": [
      "WARNING:tensorflow:From c:\\Data\\DICODING\\Machine Learning Operations (MLOps)\\ml-02\\venv\\lib\\site-packages\\tensorflow_model_analysis\\writers\\metrics_plots_and_validations_writer.py:110: tf_record_iterator (from tensorflow.python.lib.io.tf_record) is deprecated and will be removed in a future version.\n",
      "Instructions for updating:\n",
      "Use eager execution and: \n",
      "`tf.data.TFRecordDataset(path)`\n"
     ]
    },
    {
     "name": "stderr",
     "output_type": "stream",
     "text": [
      "WARNING:tensorflow:From c:\\Data\\DICODING\\Machine Learning Operations (MLOps)\\ml-02\\venv\\lib\\site-packages\\tensorflow_model_analysis\\writers\\metrics_plots_and_validations_writer.py:110: tf_record_iterator (from tensorflow.python.lib.io.tf_record) is deprecated and will be removed in a future version.\n",
      "Instructions for updating:\n",
      "Use eager execution and: \n",
      "`tf.data.TFRecordDataset(path)`\n",
      "WARNING:absl:ArtifactQuery.property_predicate is not supported.\n",
      "WARNING:absl:ArtifactQuery.property_predicate is not supported.\n"
     ]
    }
   ],
   "source": [
    "def init_pipeline(\n",
    "    components, pipeline_root: Text\n",
    ") -> pipeline.Pipeline:\n",
    "    \n",
    "    logging.info(f\"Pipeline root set to: {pipeline_root}\")\n",
    "    beam_args = [\n",
    "        \"--direct_running_mode=in_memory\",\n",
    "        # 0 auto-detect based on on the number of CPUs available \n",
    "        # during execution time.        \n",
    "        \"--direct_num_workers=1\"\n",
    "    ]\n",
    "    \n",
    "    return pipeline.Pipeline(\n",
    "        pipeline_name=PIPELINE_NAME,\n",
    "        pipeline_root=pipeline_root,\n",
    "        components=components,\n",
    "        enable_cache=True,\n",
    "        metadata_connection_config=metadata.sqlite_metadata_connection_config(\n",
    "            metadata_path\n",
    "        ),\n",
    "        # beam_pipeline_args=beam_args\n",
    "    )\n",
    "\n",
    "components = init_components(\n",
    "        DATA_ROOT,\n",
    "        tuner_module=TUNER_TRAINER_MODULE_FILE,\n",
    "        training_module=TUNER_TRAINER_MODULE_FILE,\n",
    "        transform_module=TRANSFORM_MODULE_FILE,\n",
    "        training_steps=1000,\n",
    "        eval_steps=500,\n",
    "        serving_model_dir=serving_model_dir,\n",
    "    )\n",
    "    \n",
    "pipeline = init_pipeline(components, pipeline_root)\n",
    "BeamDagRunner().run(pipeline=pipeline)"
   ]
  }
 ],
 "metadata": {
  "kernelspec": {
   "display_name": "venv (3.9.13)",
   "language": "python",
   "name": "python3"
  },
  "language_info": {
   "codemirror_mode": {
    "name": "ipython",
    "version": 3
   },
   "file_extension": ".py",
   "mimetype": "text/x-python",
   "name": "python",
   "nbconvert_exporter": "python",
   "pygments_lexer": "ipython3",
   "version": "3.9.13"
  }
 },
 "nbformat": 4,
 "nbformat_minor": 5
}
