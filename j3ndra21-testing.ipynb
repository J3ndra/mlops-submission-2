{
 "cells": [
  {
   "cell_type": "code",
   "execution_count": 1,
   "id": "a986ea38",
   "metadata": {},
   "outputs": [],
   "source": [
    "import pandas as pd\n",
    "import numpy as np\n",
    "import tensorflow as tf\n",
    "import requests\n",
    "import json\n",
    "import base64\n",
    "import os"
   ]
  },
  {
   "cell_type": "markdown",
   "id": "b8fea34e",
   "metadata": {},
   "source": [
    "## Data Loading"
   ]
  },
  {
   "cell_type": "code",
   "execution_count": 2,
   "id": "d727671f",
   "metadata": {},
   "outputs": [],
   "source": [
    "\n",
    "df = pd.read_csv(os.path.join('data', 'data_clean.csv'))"
   ]
  },
  {
   "cell_type": "code",
   "execution_count": 3,
   "id": "0738ed57",
   "metadata": {},
   "outputs": [],
   "source": [
    "if 'Unnamed: 32' in df.columns:\n",
    "    df = df.drop(columns=['Unnamed: 32'])"
   ]
  },
  {
   "cell_type": "code",
   "execution_count": 4,
   "id": "68ff0601",
   "metadata": {},
   "outputs": [
    {
     "data": {
      "text/plain": [
       "Index(['id', 'diagnosis', 'radius_mean', 'texture_mean', 'perimeter_mean',\n",
       "       'area_mean', 'smoothness_mean', 'compactness_mean', 'concavity_mean',\n",
       "       'concave points_mean', 'symmetry_mean', 'fractal_dimension_mean',\n",
       "       'radius_se', 'texture_se', 'perimeter_se', 'area_se', 'smoothness_se',\n",
       "       'compactness_se', 'concavity_se', 'concave points_se', 'symmetry_se',\n",
       "       'fractal_dimension_se', 'radius_worst', 'texture_worst',\n",
       "       'perimeter_worst', 'area_worst', 'smoothness_worst',\n",
       "       'compactness_worst', 'concavity_worst', 'concave points_worst',\n",
       "       'symmetry_worst', 'fractal_dimension_worst'],\n",
       "      dtype='object')"
      ]
     },
     "execution_count": 4,
     "metadata": {},
     "output_type": "execute_result"
    }
   ],
   "source": [
    "df.columns"
   ]
  },
  {
   "cell_type": "markdown",
   "id": "ec2101b3",
   "metadata": {},
   "source": [
    "## Predictions"
   ]
  },
  {
   "cell_type": "code",
   "execution_count": 9,
   "id": "10284181",
   "metadata": {},
   "outputs": [],
   "source": [
    "def create_tf_example(input_data):\n",
    "    feature = {}\n",
    "    for key, value in input_data.items():\n",
    "        if isinstance(value, int):\n",
    "            feature[key] = tf.train.Feature(int64_list=tf.train.Int64List(value=[value]))\n",
    "        elif isinstance(value, float):\n",
    "            feature[key] = tf.train.Feature(float_list=tf.train.FloatList(value=[value]))\n",
    "        elif isinstance(value, str):\n",
    "            feature[key] = tf.train.Feature(bytes_list=tf.train.BytesList(value=[value.encode('utf-8')]))\n",
    "        else:\n",
    "            raise ValueError(f\"Unsupported data type for key '{key}': {type(value)}\")\n",
    "    \n",
    "    example = tf.train.Example(features=tf.train.Features(feature=feature))\n",
    "    return example.SerializeToString()\n",
    "\n",
    "pred = df.drop(['diagnosis'], axis=1).sample(1).to_dict(orient='records')[0]\n",
    "\n",
    "serialized_example = create_tf_example(pred)"
   ]
  },
  {
   "cell_type": "code",
   "execution_count": null,
   "id": "9e1e6199",
   "metadata": {},
   "outputs": [
    {
     "name": "stdout",
     "output_type": "stream",
     "text": [
      "Prediction raw score: 1.0000\n",
      "Malignant (Cancer detected)\n"
     ]
    }
   ],
   "source": [
    "json_data = json.dumps({\n",
    "    \"instances\": [\n",
    "        {\n",
    "            \"examples\": {\n",
    "                \"b64\": base64.b64encode(serialized_example).decode('utf-8')\n",
    "            }\n",
    "        }\n",
    "    ]\n",
    "})\n",
    "\n",
    "endpoint = \"https://mlops02-breast-cancer-pred-6dad42a70615.herokuapp.com/v1/models/breast_cancer_wisconsin_model/versions/1753890624:predict\" \n",
    "\n",
    "try:\n",
    "    response = requests.post(endpoint, data=json_data, headers={\"Content-Type\": \"application/json\"})\n",
    "    response.raise_for_status()\n",
    "    \n",
    "    prediction = response.json()[\"predictions\"][0][0]\n",
    "    \n",
    "    print(f\"Prediction raw score: {prediction:.4f}\")\n",
    "\n",
    "    if prediction >= 0.5:\n",
    "        print('Malignant (Cancer detected)')\n",
    "    else:\n",
    "        print('Benign (No cancer detected)')\n",
    "\n",
    "except requests.exceptions.RequestException as e:\n",
    "    print(f\"Request failed: {e}\")\n",
    "    if response is not None:\n",
    "        print(f\"Response content: {response.content.decode('utf-8')}\")\n",
    "except KeyError:\n",
    "    print(\"Unexpected response format. Check the structure of response.json().\")\n",
    "    print(f\"Full response: {response.json()}\")\n",
    "except Exception as e:\n",
    "    print(f\"An unexpected error occurred: {e}\")"
   ]
  },
  {
   "cell_type": "code",
   "execution_count": null,
   "id": "3f466e18",
   "metadata": {},
   "outputs": [],
   "source": []
  }
 ],
 "metadata": {
  "kernelspec": {
   "display_name": "venv (3.9.13)",
   "language": "python",
   "name": "python3"
  },
  "language_info": {
   "codemirror_mode": {
    "name": "ipython",
    "version": 3
   },
   "file_extension": ".py",
   "mimetype": "text/x-python",
   "name": "python",
   "nbconvert_exporter": "python",
   "pygments_lexer": "ipython3",
   "version": "3.9.13"
  }
 },
 "nbformat": 4,
 "nbformat_minor": 5
}
